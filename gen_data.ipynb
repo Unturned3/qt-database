{
 "cells": [
  {
   "cell_type": "code",
   "execution_count": 1,
   "metadata": {},
   "outputs": [],
   "source": [
    "\n",
    "import torch\n",
    "from torch import nn\n",
    "import numpy as np\n",
    "\n",
    "# data handling\n",
    "import wfdb\n",
    "import pandas as pd\n",
    "\n",
    "# graph plotting\n",
    "%matplotlib ipympl\n",
    "import matplotlib.pyplot as plt\n",
    "\n",
    "import util\n",
    "from util import QT_record\n",
    "from util import get_record_names\n",
    "\n",
    "from typing import List\n",
    "import random\n"
   ]
  },
  {
   "cell_type": "code",
   "execution_count": 2,
   "metadata": {},
   "outputs": [],
   "source": [
    "\n",
    "class Config():\n",
    "    ds_path = 'qt-database-1.0.0'\n",
    "    epochs = 30\n",
    "    learning_rate = 1e-3\n",
    "\n",
    "record_names = util.get_record_names(Config.ds_path)\n"
   ]
  },
  {
   "cell_type": "code",
   "execution_count": 4,
   "metadata": {},
   "outputs": [],
   "source": [
    "import os\n",
    "import pickle\n",
    "from typing import Dict\n",
    "\n",
    "def generate_training_data(ds_path: str, output_path: str = 'qt-new',\n",
    "                           gen_per_symbol: int = 1, window: int = 100,\n",
    "                           pad: int = 30, write_data = False,\n",
    "                           enable_plot = False\n",
    "                        ) -> None:\n",
    "\n",
    "    plot_freq = 300\n",
    "    count = 0\n",
    "\n",
    "    record_names = get_record_names(ds_path)\n",
    "    records: List[QT_record] = []\n",
    "\n",
    "    for i in record_names:\n",
    "        r = QT_record(ds_path, i)\n",
    "        r.check_bracket_mismatch(fix_mismatches=True)\n",
    "        r.normalize()\n",
    "        records.append(r)\n",
    "\n",
    "    for rec in records:\n",
    "        for idx, symbol in enumerate(rec.q1c.symbol):\n",
    "\n",
    "            if symbol not in 'pNt':\n",
    "                continue\n",
    "\n",
    "            center_samp = rec.q1c.sample[idx]\n",
    "            boundary = window - pad\n",
    "            left_bound = max(center_samp - boundary, 0)\n",
    "            right_bound = min(center_samp + boundary, rec.dat.shape[0])\n",
    "\n",
    "            for i in range(0, gen_per_symbol):\n",
    "                left = random.randint(left_bound, right_bound - window)\n",
    "\n",
    "                pkl: Dict = {\n",
    "                    'data': rec.dat[left:(left+window), 0].copy(), \n",
    "                    'p_prob': 0.0, 'p_pos': 0.0,\n",
    "                    'r_prob': 0.0, 'r_pos': 0.0,\n",
    "                    't_prob': 0.0, 't_pos': 0.0,\n",
    "                }\n",
    "\n",
    "                for j in range(max(0, idx - 6), min(rec.q1c.sample.size, idx + 7)):\n",
    "                    symb = rec.q1c.symbol[j]\n",
    "                    samp = rec.q1c.sample[j]\n",
    "                    if (symb not in 'pNt') or (samp < left) or (samp > left + window):\n",
    "                        continue\n",
    "                    if symb == 'N':\n",
    "                        symb = 'r'\n",
    "                    pkl[symb + '_prob'] = 1.0\n",
    "                    pkl[symb + '_pos'] = (samp - left) / window\n",
    "\n",
    "                if enable_plot and (count % plot_freq == plot_freq - 1):\n",
    "                    fix, ax = plt.subplots()\n",
    "                    ax.plot(pkl['data'])\n",
    "                    if pkl['p_prob'] != 0:\n",
    "                        ax.plot(pkl['p_pos'] * window, 0, marker='$p$')\n",
    "                    if pkl['r_prob'] != 0:\n",
    "                        ax.plot(pkl['r_pos'] * window, 0, marker='$r$')\n",
    "                    if pkl['t_prob'] != 0:\n",
    "                        ax.plot(pkl['t_pos'] * window, 0, marker='$t$')\n",
    "                    \n",
    "                if write_data:\n",
    "                    with open(os.path.join(output_path, 's{}.pkl'.format(count)), 'wb') as f:\n",
    "                        pickle.dump(pkl, f)\n",
    "\n",
    "                count += 1\n"
   ]
  },
  {
   "cell_type": "code",
   "execution_count": 5,
   "metadata": {},
   "outputs": [],
   "source": [
    "\n",
    "generate_training_data(Config.ds_path, write_data=True)"
   ]
  },
  {
   "cell_type": "code",
   "execution_count": null,
   "metadata": {},
   "outputs": [],
   "source": [
    "r = QT_record(Config.ds_path, record_names[1])\n",
    "#r.check_bracket_mismatch(fix_mismatches=True)\n",
    "r.normalize()\n",
    "r.plot_ecg(start=150000, stop=151000)"
   ]
  },
  {
   "cell_type": "code",
   "execution_count": null,
   "metadata": {},
   "outputs": [],
   "source": [
    "r = QT_record(Config.ds_path, record_names[1])\n",
    "r.check_bracket_mismatch(fix_mismatches=True)\n",
    "r.normalize()\n",
    "r.plot_ecg(start=150200, stop=150500)\n"
   ]
  },
  {
   "cell_type": "code",
   "execution_count": null,
   "metadata": {},
   "outputs": [],
   "source": [
    "r = QT_record(Config.ds_path, record_names[50])\n",
    "r.check_bracket_mismatch(fix_mismatches=True)\n",
    "r.normalize()\n",
    "r.plot_ecg(start=150000, stop=150500)"
   ]
  },
  {
   "cell_type": "code",
   "execution_count": null,
   "metadata": {},
   "outputs": [],
   "source": []
  }
 ],
 "metadata": {
  "kernelspec": {
   "display_name": "Python 3.9.7 ('base')",
   "language": "python",
   "name": "python3"
  },
  "language_info": {
   "codemirror_mode": {
    "name": "ipython",
    "version": 3
   },
   "file_extension": ".py",
   "mimetype": "text/x-python",
   "name": "python",
   "nbconvert_exporter": "python",
   "pygments_lexer": "ipython3",
   "version": "3.9.7"
  },
  "orig_nbformat": 4,
  "vscode": {
   "interpreter": {
    "hash": "40d3a090f54c6569ab1632332b64b2c03c39dcf918b08424e98f38b5ae0af88f"
   }
  }
 },
 "nbformat": 4,
 "nbformat_minor": 2
}
